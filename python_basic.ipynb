{
  "nbformat": 4,
  "nbformat_minor": 0,
  "metadata": {
    "colab": {
      "provenance": [],
      "authorship_tag": "ABX9TyN7HNB0Raf0p6FT/SdceD4f"
    },
    "kernelspec": {
      "name": "python3",
      "display_name": "Python 3"
    },
    "language_info": {
      "name": "python"
    }
  },
  "cells": [
    {
      "cell_type": "code",
      "execution_count": null,
      "metadata": {
        "id": "3MQ9RmX3xgBy"
      },
      "outputs": [],
      "source": [
        "x = 3\n",
        "y = 2\n",
        "print(x + y)\n",
        "print(x - y)\n",
        "print(x * y)\n",
        "print(x / y)\n",
        "print(x // y)\n",
        "print(x ** y)"
      ]
    },
    {
      "cell_type": "code",
      "source": [
        "temp_c = float(input('Nhập nhiệt độ theo độ C: '))\n",
        "temp_f = ((9 / 5) * temp_c) + 32\n",
        "print('Nhiệt độ f la: ', temp_f)"
      ],
      "metadata": {
        "colab": {
          "base_uri": "https://localhost:8080/"
        },
        "id": "NXK3gatayRDu",
        "outputId": "148d6039-f3e0-4517-c801-0ad4e748484f"
      },
      "execution_count": 2,
      "outputs": [
        {
          "output_type": "stream",
          "name": "stdout",
          "text": [
            "Nhập nhiệt độ theo độ C: 23\n",
            "Nhiệt độ f la:  73.4\n"
          ]
        }
      ]
    },
    {
      "cell_type": "code",
      "source": [
        "a = 5\n",
        "b = 8\n",
        "print(a == b)\n",
        "print(a != b)\n",
        "print(a > b)\n",
        "print(a >= b)\n",
        "print(a < b)\n",
        "print(a <= b)"
      ],
      "metadata": {
        "colab": {
          "base_uri": "https://localhost:8080/"
        },
        "id": "M5cSgkaqzDFk",
        "outputId": "e16db71e-1920-4170-86c1-6febfd79264f"
      },
      "execution_count": 3,
      "outputs": [
        {
          "output_type": "stream",
          "name": "stdout",
          "text": [
            "False\n",
            "True\n",
            "False\n",
            "False\n",
            "True\n",
            "True\n"
          ]
        }
      ]
    },
    {
      "cell_type": "code",
      "source": [
        "number_of_date = 10\n",
        "print(number_of_date)\n",
        "distance = 20.5\n",
        "print(distance)\n",
        "greeting = \"Hello AI-VIET-NAM\"\n",
        "print(greeting)\n",
        "is_student = True\n",
        "print(is_student)"
      ],
      "metadata": {
        "colab": {
          "base_uri": "https://localhost:8080/"
        },
        "id": "D5bErmyUzpIx",
        "outputId": "4e1673c9-36aa-4f57-ce60-577acfabacd6"
      },
      "execution_count": 4,
      "outputs": [
        {
          "output_type": "stream",
          "name": "stdout",
          "text": [
            "10\n",
            "20.5\n",
            "Hello AI-VIET-NAM\n",
            "True\n"
          ]
        }
      ]
    },
    {
      "cell_type": "code",
      "source": [
        "number_of_date = 10\n",
        "data_type_of_number_of_date = type(number_of_date)\n",
        "print(data_type_of_number_of_date)\n",
        "distance = 20.5\n",
        "data_type_of_distance = type(distance)\n",
        "print(data_type_of_distance)\n",
        "greeting = \"Hello AI-VIET-NAM\"\n",
        "data_type_of_greeting = type(greeting)\n",
        "print(data_type_of_greeting)\n",
        "is_student = True\n",
        "data_type_of_is_student = type(is_student)\n",
        "print(data_type_of_is_student)\n"
      ],
      "metadata": {
        "colab": {
          "base_uri": "https://localhost:8080/"
        },
        "id": "HjYHoBPX0jOu",
        "outputId": "bd527433-deda-4544-af21-ecc6aaa46fa7"
      },
      "execution_count": 5,
      "outputs": [
        {
          "output_type": "stream",
          "name": "stdout",
          "text": [
            "<class 'int'>\n",
            "<class 'float'>\n",
            "<class 'str'>\n",
            "<class 'bool'>\n"
          ]
        }
      ]
    }
  ]
}